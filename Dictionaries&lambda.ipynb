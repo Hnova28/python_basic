{
  "nbformat": 4,
  "nbformat_minor": 0,
  "metadata": {
    "colab": {
      "provenance": [],
      "authorship_tag": "ABX9TyOLl+m1XdTy0tUXioKkFfNx",
      "include_colab_link": true
    },
    "kernelspec": {
      "name": "python3",
      "display_name": "Python 3"
    },
    "language_info": {
      "name": "python"
    }
  },
  "cells": [
    {
      "cell_type": "markdown",
      "metadata": {
        "id": "view-in-github",
        "colab_type": "text"
      },
      "source": [
        "<a href=\"https://colab.research.google.com/github/Hnova28/python_basic/blob/main/Dictionaries%26lambda.ipynb\" target=\"_parent\"><img src=\"https://colab.research.google.com/assets/colab-badge.svg\" alt=\"Open In Colab\"/></a>"
      ]
    },
    {
      "cell_type": "code",
      "execution_count": null,
      "metadata": {
        "id": "UBQZHGNRL6xz",
        "colab": {
          "base_uri": "https://localhost:8080/"
        },
        "outputId": "a98474dc-acd9-4dad-ba22-cc609cf11985"
      },
      "outputs": [
        {
          "output_type": "stream",
          "name": "stdout",
          "text": [
            "15\n"
          ]
        }
      ],
      "source": [
        "x= lambda a: a+10\n",
        "print(x(5))"
      ]
    },
    {
      "cell_type": "code",
      "source": [
        "x= lambda a,b,c : a+b+10\n",
        "print(x(3,4,5))"
      ],
      "metadata": {
        "colab": {
          "base_uri": "https://localhost:8080/"
        },
        "id": "0fdu9s-nPRhR",
        "outputId": "f1fa73e9-aac8-4f79-a78f-a51d569b0f9e"
      },
      "execution_count": null,
      "outputs": [
        {
          "output_type": "stream",
          "name": "stdout",
          "text": [
            "17\n"
          ]
        }
      ]
    },
    {
      "cell_type": "code",
      "source": [],
      "metadata": {
        "id": "CT-wmOmHPsxz"
      },
      "execution_count": null,
      "outputs": []
    }
  ]
}