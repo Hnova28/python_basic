{
  "nbformat": 4,
  "nbformat_minor": 0,
  "metadata": {
    "colab": {
      "provenance": [],
      "authorship_tag": "ABX9TyMB83Ye6LCh4XyYtJRrKkpB",
      "include_colab_link": true
    },
    "kernelspec": {
      "name": "python3",
      "display_name": "Python 3"
    },
    "language_info": {
      "name": "python"
    }
  },
  "cells": [
    {
      "cell_type": "markdown",
      "metadata": {
        "id": "view-in-github",
        "colab_type": "text"
      },
      "source": [
        "<a href=\"https://colab.research.google.com/github/Hnova28/python_basic/blob/main/String%26Str_formate.ipynb\" target=\"_parent\"><img src=\"https://colab.research.google.com/assets/colab-badge.svg\" alt=\"Open In Colab\"/></a>"
      ]
    },
    {
      "cell_type": "markdown",
      "source": [
        "\n",
        "\n",
        "1. position\n",
        "2. length\n",
        "3. check\n",
        "4. if\n",
        "5. range\n",
        "6. method\n",
        "     *  Upper\n",
        "     *  Lower\n",
        "     *  replace\n",
        "7. cancate\n",
        "8. Formate String\n",
        "\n",
        "\n",
        "\n",
        "\n",
        "\n",
        "\n"
      ],
      "metadata": {
        "id": "nN4l8BN3a9a9"
      }
    },
    {
      "cell_type": "code",
      "source": [
        "name = \"My name is nova\"\n",
        "print(name[1])\n",
        "print(name[3])"
      ],
      "metadata": {
        "colab": {
          "base_uri": "https://localhost:8080/"
        },
        "id": "45BgGPb3b169",
        "outputId": "6dc041b7-ea07-4ae3-9635-578965819efb"
      },
      "execution_count": null,
      "outputs": [
        {
          "output_type": "stream",
          "name": "stdout",
          "text": [
            "y\n",
            "n\n"
          ]
        }
      ]
    },
    {
      "cell_type": "code",
      "source": [
        "name = \"My name is nova\"\n",
        "print(len(name))\n"
      ],
      "metadata": {
        "colab": {
          "base_uri": "https://localhost:8080/"
        },
        "id": "Hp0-EPLccj5a",
        "outputId": "7d5190c5-84c9-4e08-c69f-283f954c276a"
      },
      "execution_count": null,
      "outputs": [
        {
          "output_type": "stream",
          "name": "stdout",
          "text": [
            "15\n"
          ]
        }
      ]
    },
    {
      "cell_type": "code",
      "source": [
        "name = \"My name is nova\"\n",
        "if \"nova\" in name:\n",
        "    print(\"yes\")"
      ],
      "metadata": {
        "colab": {
          "base_uri": "https://localhost:8080/"
        },
        "id": "K0VgaVaSdTDW",
        "outputId": "88f68d52-516e-4732-bb31-09609a429552"
      },
      "execution_count": null,
      "outputs": [
        {
          "output_type": "stream",
          "name": "stdout",
          "text": [
            "yes\n"
          ]
        }
      ]
    },
    {
      "cell_type": "code",
      "source": [
        "name = \"My name is nova\"\n",
        "if \"noha\" not in name:\n",
        "    print(\"No\")"
      ],
      "metadata": {
        "colab": {
          "base_uri": "https://localhost:8080/"
        },
        "id": "q2IipkF4d8zQ",
        "outputId": "11cec132-2e7c-4e97-a503-28d3727fbf73"
      },
      "execution_count": null,
      "outputs": [
        {
          "output_type": "stream",
          "name": "stdout",
          "text": [
            "No\n"
          ]
        }
      ]
    },
    {
      "cell_type": "code",
      "source": [
        "name = \"My name is neyama haque nova\"\n",
        "print(name[3:18])"
      ],
      "metadata": {
        "colab": {
          "base_uri": "https://localhost:8080/"
        },
        "id": "ir1EJOWbeNTa",
        "outputId": "ae51da93-e9dc-4f25-b777-39d26347f62c"
      },
      "execution_count": null,
      "outputs": [
        {
          "output_type": "stream",
          "name": "stdout",
          "text": [
            "name is neyama \n"
          ]
        }
      ]
    },
    {
      "cell_type": "code",
      "source": [
        "name = \"My name is neyama haque nova\"\n",
        "print(name[3:])"
      ],
      "metadata": {
        "colab": {
          "base_uri": "https://localhost:8080/"
        },
        "id": "Ardahf59fG71",
        "outputId": "6e6911ee-18a6-4c23-d5a3-bdde098eb6c3"
      },
      "execution_count": null,
      "outputs": [
        {
          "output_type": "stream",
          "name": "stdout",
          "text": [
            "name is neyama haque nova\n"
          ]
        }
      ]
    },
    {
      "cell_type": "code",
      "source": [
        "name = \"My name is neyama haque nova\"\n",
        "print(name[:18])"
      ],
      "metadata": {
        "colab": {
          "base_uri": "https://localhost:8080/"
        },
        "id": "gix13Z0dfMKf",
        "outputId": "c1a4dec3-94e9-49fc-f912-11208d0ae622"
      },
      "execution_count": null,
      "outputs": [
        {
          "output_type": "stream",
          "name": "stdout",
          "text": [
            "My name is neyama \n"
          ]
        }
      ]
    },
    {
      "cell_type": "code",
      "source": [
        "name = \"My name is neyama haque nova.\" # when count start space are include\n",
        "print(name[-5:-1])"
      ],
      "metadata": {
        "colab": {
          "base_uri": "https://localhost:8080/"
        },
        "id": "Fc1a6D9EfaDP",
        "outputId": "e853e3d6-31fc-438d-fb64-889ec61f27a3"
      },
      "execution_count": null,
      "outputs": [
        {
          "output_type": "stream",
          "name": "stdout",
          "text": [
            "nova\n"
          ]
        }
      ]
    },
    {
      "cell_type": "code",
      "source": [
        "name = \"My name is neyama haque nova\"\n",
        "print (name.upper())"
      ],
      "metadata": {
        "colab": {
          "base_uri": "https://localhost:8080/"
        },
        "id": "33B7iZXKgGr9",
        "outputId": "df6521a6-ef2b-469e-ef8c-df1be31099ad"
      },
      "execution_count": null,
      "outputs": [
        {
          "output_type": "stream",
          "name": "stdout",
          "text": [
            "MY NAME IS NEYAMA HAQUE NOVA\n"
          ]
        }
      ]
    },
    {
      "cell_type": "code",
      "source": [
        "name = \"My name is neyama haque nova\"\n",
        "print (name.lower())"
      ],
      "metadata": {
        "colab": {
          "base_uri": "https://localhost:8080/"
        },
        "id": "KJ7QKn7Sge0q",
        "outputId": "47925ad3-1888-4c6c-accc-01f69cbe5a34"
      },
      "execution_count": null,
      "outputs": [
        {
          "output_type": "stream",
          "name": "stdout",
          "text": [
            "my name is neyama haque nova\n"
          ]
        }
      ]
    },
    {
      "cell_type": "code",
      "source": [
        "name = \"My name is neyama haque nova\"\n",
        "print (name.replace(\"is\",\"\"))"
      ],
      "metadata": {
        "colab": {
          "base_uri": "https://localhost:8080/"
        },
        "id": "UTlUghQ9gjYB",
        "outputId": "81be25bb-99f1-4066-d71c-e31e5c189e0d"
      },
      "execution_count": null,
      "outputs": [
        {
          "output_type": "stream",
          "name": "stdout",
          "text": [
            "My name  neyama haque nova\n"
          ]
        }
      ]
    },
    {
      "cell_type": "code",
      "source": [
        "name1=\"nova\"\n",
        "name2=\"haque\"\n",
        "print(name1+ \" \" +name2)"
      ],
      "metadata": {
        "colab": {
          "base_uri": "https://localhost:8080/"
        },
        "id": "YMB7fsJ9hA1r",
        "outputId": "53867b50-283d-4553-cdad-aa9dad0c6d88"
      },
      "execution_count": null,
      "outputs": [
        {
          "output_type": "stream",
          "name": "stdout",
          "text": [
            "nova haque\n"
          ]
        }
      ]
    },
    {
      "cell_type": "code",
      "source": [
        "price = 50\n",
        "txt =\"the price is {} dollar\"\n",
        "print(txt.format(price))"
      ],
      "metadata": {
        "colab": {
          "base_uri": "https://localhost:8080/"
        },
        "id": "czzqQQoghkgl",
        "outputId": "c831e100-b7fa-46d0-ad9a-4e73e8416ec0"
      },
      "execution_count": null,
      "outputs": [
        {
          "output_type": "stream",
          "name": "stdout",
          "text": [
            "the price is 50 dollar\n"
          ]
        }
      ]
    }
  ]
}