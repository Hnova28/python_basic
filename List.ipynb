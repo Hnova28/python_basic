{
  "nbformat": 4,
  "nbformat_minor": 0,
  "metadata": {
    "colab": {
      "provenance": [],
      "authorship_tag": "ABX9TyOXmkZL5+zKv3DfsKPc7Zcq",
      "include_colab_link": true
    },
    "kernelspec": {
      "name": "python3",
      "display_name": "Python 3"
    },
    "language_info": {
      "name": "python"
    }
  },
  "cells": [
    {
      "cell_type": "markdown",
      "metadata": {
        "id": "view-in-github",
        "colab_type": "text"
      },
      "source": [
        "<a href=\"https://colab.research.google.com/github/Hnova28/python_basic/blob/main/List.ipynb\" target=\"_parent\"><img src=\"https://colab.research.google.com/assets/colab-badge.svg\" alt=\"Open In Colab\"/></a>"
      ]
    },
    {
      "cell_type": "markdown",
      "source": [
        "1. Access item / set position\n",
        "2. range\n",
        "3. change/replace\n",
        "4. method\n",
        "      1. append{add end)\n",
        "      2. insert{specific index)\n",
        "      3. extend(list-list, list-tuple, list-set)\n",
        "      4. remove(mention obj)\n",
        "      5. pop(specific index)\n",
        "      6. clear\n",
        "      7. sort\n",
        "      8. sort(reverse()\n",
        "\n",
        "5. keyword\n",
        "      del\n",
        "6. loop(for,while)\n",
        "7. list comprehension\n",
        "\n",
        "# **characteristics:**\n",
        "\n",
        "1.  [   ]\n",
        "2. allow duplicate\n",
        "    "
      ],
      "metadata": {
        "id": "xe1A-vZTtlC_"
      }
    },
    {
      "cell_type": "code",
      "source": [
        "txt = [\"apple\", \"mango\",\"qiwi\",\"lichi\"] #1\n",
        "print(txt[1])"
      ],
      "metadata": {
        "colab": {
          "base_uri": "https://localhost:8080/"
        },
        "id": "BIOhXrkbvBRU",
        "outputId": "774071d3-4dc4-4a1e-82e6-feeef814aabe"
      },
      "execution_count": null,
      "outputs": [
        {
          "output_type": "stream",
          "name": "stdout",
          "text": [
            "mango\n"
          ]
        }
      ]
    },
    {
      "cell_type": "code",
      "source": [
        "txt = [\"apple\", \"mango\",\"qiwi\",\"lichi\", \"watermelon\"] #2\n",
        "print(txt[1:3])\n"
      ],
      "metadata": {
        "colab": {
          "base_uri": "https://localhost:8080/"
        },
        "id": "PHdkuc_Uw4kC",
        "outputId": "6d0966ad-d43e-4575-96da-0917c8e1f7b7"
      },
      "execution_count": null,
      "outputs": [
        {
          "output_type": "stream",
          "name": "stdout",
          "text": [
            "['mango', 'qiwi']\n"
          ]
        }
      ]
    },
    {
      "cell_type": "code",
      "source": [
        "txt = [\"apple\", \"mango\",\"qiwi\",\"lichi\", \"watermelon\"] #2\n",
        "print(txt[-4:-1])\n"
      ],
      "metadata": {
        "colab": {
          "base_uri": "https://localhost:8080/"
        },
        "id": "4-PxKNlh6P2r",
        "outputId": "45945971-a1cf-4770-df86-20f6ac91fa7f"
      },
      "execution_count": null,
      "outputs": [
        {
          "output_type": "stream",
          "name": "stdout",
          "text": [
            "['mango', 'qiwi', 'lichi']\n"
          ]
        }
      ]
    },
    {
      "cell_type": "code",
      "source": [
        "txt = [\"apple\", \"mango\",\"qiwi\",\"lichi\", \"watermelon\"] #3\n",
        "txt[0]=\"banana\"\n",
        "print(txt)\n"
      ],
      "metadata": {
        "colab": {
          "base_uri": "https://localhost:8080/"
        },
        "id": "mcE5tFC56Z1h",
        "outputId": "bca4d1f4-a0b1-476c-cde9-cc063cb335b8"
      },
      "execution_count": null,
      "outputs": [
        {
          "output_type": "stream",
          "name": "stdout",
          "text": [
            "['banana', 'mango', 'qiwi', 'lichi', 'watermelon']\n"
          ]
        }
      ]
    },
    {
      "cell_type": "code",
      "source": [
        "txt = [\"apple\", \"mango\",\"qiwi\",\"lichi\", \"watermelon\"] #3\n",
        "txt[0:2]=[\"banana\", \"strawberry\"]\n",
        "print(txt)\n",
        "\n"
      ],
      "metadata": {
        "colab": {
          "base_uri": "https://localhost:8080/"
        },
        "id": "QfeNofaG65m6",
        "outputId": "375dca07-0b6e-4207-d47f-7a64a7cab45d"
      },
      "execution_count": null,
      "outputs": [
        {
          "output_type": "stream",
          "name": "stdout",
          "text": [
            "['banana', 'strawberry', 'qiwi', 'lichi', 'watermelon']\n"
          ]
        }
      ]
    },
    {
      "cell_type": "code",
      "source": [
        "txt = [\"apple\", \"mango\",\"qiwi\",\"lichi\", \"watermelon\"] #4\n",
        "txt.append(\"banana\")\n",
        "print(txt)\n"
      ],
      "metadata": {
        "colab": {
          "base_uri": "https://localhost:8080/"
        },
        "id": "n4joQoTa79a5",
        "outputId": "8c72cd75-f08c-46c2-abe1-15772ed1df0f"
      },
      "execution_count": null,
      "outputs": [
        {
          "output_type": "stream",
          "name": "stdout",
          "text": [
            "['apple', 'mango', 'qiwi', 'lichi', 'watermelon', 'banana']\n"
          ]
        }
      ]
    },
    {
      "cell_type": "code",
      "source": [
        "txt = [\"apple\", \"mango\",\"qiwi\",\"lichi\", \"watermelon\"] #4\n",
        "txt.insert(2, \"orange\")\n",
        "print(txt)\n"
      ],
      "metadata": {
        "colab": {
          "base_uri": "https://localhost:8080/"
        },
        "id": "eQBNjTb98WPY",
        "outputId": "aec960c7-db41-4cf1-d038-ea3f7b1fc73f"
      },
      "execution_count": null,
      "outputs": [
        {
          "output_type": "stream",
          "name": "stdout",
          "text": [
            "['apple', 'mango', 'orange', 'qiwi', 'lichi', 'watermelon']\n"
          ]
        }
      ]
    },
    {
      "cell_type": "code",
      "source": [
        "txt = [\"apple\", \"mango\",\"qiwi\",\"lichi\", \"watermelon\"] #4\n",
        "txt2 = {\"red\",\"yellow\",\"green\"}\n",
        "txt.extend(txt2)\n",
        "print(txt)"
      ],
      "metadata": {
        "colab": {
          "base_uri": "https://localhost:8080/"
        },
        "id": "2LdT4mSd8q-_",
        "outputId": "573a6ccc-15a5-4997-f85d-678730d729f2"
      },
      "execution_count": null,
      "outputs": [
        {
          "output_type": "stream",
          "name": "stdout",
          "text": [
            "['apple', 'mango', 'qiwi', 'lichi', 'watermelon', 'yellow', 'red', 'green']\n"
          ]
        }
      ]
    },
    {
      "cell_type": "code",
      "source": [
        "txt = [\"apple\", \"mango\",\"qiwi\",\"lichi\", \"watermelon\"] #4\n",
        "txt.remove(\"mango\")\n",
        "print(txt)"
      ],
      "metadata": {
        "colab": {
          "base_uri": "https://localhost:8080/"
        },
        "id": "8xkoRgu99GWM",
        "outputId": "0c01fa72-c751-4451-9566-eb68df7c0ad9"
      },
      "execution_count": null,
      "outputs": [
        {
          "output_type": "stream",
          "name": "stdout",
          "text": [
            "['apple', 'qiwi', 'lichi', 'watermelon']\n"
          ]
        }
      ]
    },
    {
      "cell_type": "code",
      "source": [
        "txt = [\"apple\", \"mango\",\"qiwi\",\"lichi\", \"watermelon\"] #4\n",
        "txt.pop(2)\n",
        "print(txt)"
      ],
      "metadata": {
        "colab": {
          "base_uri": "https://localhost:8080/"
        },
        "id": "Shz2oaJC-gwD",
        "outputId": "64d081ae-746e-4596-c204-88d5f549563f"
      },
      "execution_count": null,
      "outputs": [
        {
          "output_type": "stream",
          "name": "stdout",
          "text": [
            "['apple', 'mango', 'lichi', 'watermelon']\n"
          ]
        }
      ]
    },
    {
      "cell_type": "code",
      "source": [
        "txt = [\"apple\", \"mango\",\"qiwi\",\"lichi\", \"watermelon\"] #4\n",
        "txt.clear()\n",
        "print(txt)"
      ],
      "metadata": {
        "colab": {
          "base_uri": "https://localhost:8080/"
        },
        "id": "fOXFFJQr-sJp",
        "outputId": "6957608c-312b-490e-a134-d6a10bf249ee"
      },
      "execution_count": null,
      "outputs": [
        {
          "output_type": "stream",
          "name": "stdout",
          "text": [
            "[]\n"
          ]
        }
      ]
    },
    {
      "cell_type": "code",
      "source": [
        "txt = [\"apple\", \"mango\",\"qiwi\",\"lichi\", \"watermelon\"] #5\n",
        "del txt[0]\n",
        "print(txt)"
      ],
      "metadata": {
        "colab": {
          "base_uri": "https://localhost:8080/"
        },
        "id": "2e3BGyFd-ye7",
        "outputId": "50b93de8-ac2d-454e-b57d-ba32d2e81951"
      },
      "execution_count": null,
      "outputs": [
        {
          "output_type": "stream",
          "name": "stdout",
          "text": [
            "['mango', 'qiwi', 'lichi', 'watermelon']\n"
          ]
        }
      ]
    },
    {
      "cell_type": "code",
      "source": [
        "txt = [\"apple\", \"mango\",\"qiwi\",\"lichi\", \"watermelon\"] #5\n",
        "txt.sort()\n",
        "print(txt)"
      ],
      "metadata": {
        "colab": {
          "base_uri": "https://localhost:8080/"
        },
        "id": "sYbEoh1_ACkq",
        "outputId": "3eff4d79-a65a-4136-9c6f-060e918d6a30"
      },
      "execution_count": null,
      "outputs": [
        {
          "output_type": "stream",
          "name": "stdout",
          "text": [
            "['apple', 'lichi', 'mango', 'qiwi', 'watermelon']\n"
          ]
        }
      ]
    },
    {
      "cell_type": "code",
      "source": [
        "txt = [\"apple\", \"mango\",\"qiwi\",\"lichi\", \"watermelon\"] #5\n",
        "txt.sort(reverse=True)\n",
        "print(txt)"
      ],
      "metadata": {
        "colab": {
          "base_uri": "https://localhost:8080/"
        },
        "id": "qHftTiGPANaE",
        "outputId": "3e6eff06-2608-45c2-b7b4-bf6ce359fc0f"
      },
      "execution_count": null,
      "outputs": [
        {
          "output_type": "stream",
          "name": "stdout",
          "text": [
            "['watermelon', 'qiwi', 'mango', 'lichi', 'apple']\n"
          ]
        }
      ]
    },
    {
      "cell_type": "code",
      "source": [
        "txt = [\"apple\", \"mango\",\"qiwi\",\"lichi\", \"watermelon\"] #5\n",
        "txt.sort(reverse=False)\n",
        "print(txt)"
      ],
      "metadata": {
        "colab": {
          "base_uri": "https://localhost:8080/"
        },
        "id": "wobeH-nXAYtc",
        "outputId": "cd2fc39a-181e-40f2-f71f-5a9154c4c936"
      },
      "execution_count": null,
      "outputs": [
        {
          "output_type": "stream",
          "name": "stdout",
          "text": [
            "['apple', 'lichi', 'mango', 'qiwi', 'watermelon']\n"
          ]
        }
      ]
    },
    {
      "cell_type": "code",
      "source": [
        "txt = [\"apple\", \"Mango\",\"qiwi\",\"Lichi\", \"watermelon\"] #5\n",
        "txt.sort(reverse=True)\n",
        "print(txt)"
      ],
      "metadata": {
        "colab": {
          "base_uri": "https://localhost:8080/"
        },
        "id": "YWnwIdIdA13M",
        "outputId": "16ab780e-e589-4931-9bf5-1f5ebe64af4f"
      },
      "execution_count": null,
      "outputs": [
        {
          "output_type": "stream",
          "name": "stdout",
          "text": [
            "['watermelon', 'qiwi', 'apple', 'Mango', 'Lichi']\n"
          ]
        }
      ]
    },
    {
      "cell_type": "code",
      "source": [
        "txt = [\"apple\", \"Mango\",\"qiwi\",\"Lichi\", \"watermelon\"] #5\n",
        "txt.sort()\n",
        "print(txt)"
      ],
      "metadata": {
        "colab": {
          "base_uri": "https://localhost:8080/"
        },
        "id": "6H_0E0g0A_AA",
        "outputId": "936913fc-911e-42ab-d730-0d618b13b472"
      },
      "execution_count": null,
      "outputs": [
        {
          "output_type": "stream",
          "name": "stdout",
          "text": [
            "['Lichi', 'Mango', 'apple', 'qiwi', 'watermelon']\n"
          ]
        }
      ]
    },
    {
      "cell_type": "code",
      "source": [
        "txt = [\"apple\", \"Mango\",\"qiwi\",\"Lichi\", \"watermelon\"] #5\n",
        "txt.sort(key = str.lower)\n",
        "print(txt)"
      ],
      "metadata": {
        "colab": {
          "base_uri": "https://localhost:8080/"
        },
        "id": "_Dbu7vGNBSmV",
        "outputId": "f4ca3769-e14a-4328-ccb3-35697a2d07ca"
      },
      "execution_count": null,
      "outputs": [
        {
          "output_type": "stream",
          "name": "stdout",
          "text": [
            "['apple', 'Lichi', 'Mango', 'qiwi', 'watermelon']\n"
          ]
        }
      ]
    },
    {
      "cell_type": "markdown",
      "source": [
        "# **LOOP**"
      ],
      "metadata": {
        "id": "HIxvwg4b-9Cq"
      }
    },
    {
      "cell_type": "code",
      "source": [
        "txt = [\"apple\", \"Mango\",\"qiwi\",\"Lichi\", \"watermelon\"] #6\n",
        "for x in txt:\n",
        " print(x)"
      ],
      "metadata": {
        "colab": {
          "base_uri": "https://localhost:8080/"
        },
        "id": "8kwzn3wj-8j9",
        "outputId": "1dc7b038-76b1-4df8-8a3b-dadc0b2a947f"
      },
      "execution_count": null,
      "outputs": [
        {
          "output_type": "stream",
          "name": "stdout",
          "text": [
            "apple\n",
            "Mango\n",
            "qiwi\n",
            "Lichi\n",
            "watermelon\n"
          ]
        }
      ]
    },
    {
      "cell_type": "code",
      "source": [
        "txt = [\"apple\", \"Mango\",\"qiwi\",\"Lichi\", \"watermelon\"] #6\n",
        "for i in range(len(txt)):\n",
        " print(txt[i])"
      ],
      "metadata": {
        "colab": {
          "base_uri": "https://localhost:8080/"
        },
        "id": "EH21N5ROB79V",
        "outputId": "9aa56ea1-6121-46a3-ffae-a212b7f2e3ce"
      },
      "execution_count": null,
      "outputs": [
        {
          "output_type": "stream",
          "name": "stdout",
          "text": [
            "apple\n",
            "Mango\n",
            "qiwi\n",
            "Lichi\n",
            "watermelon\n"
          ]
        }
      ]
    },
    {
      "cell_type": "code",
      "source": [
        "txt = [\"apple\", \"Mango\",\"qiwi\",\"Lichi\", \"watermelon\"] #6\n",
        "i = 0\n",
        "while i<len(txt):\n",
        " print(txt[i])\n",
        " i=i+1\n"
      ],
      "metadata": {
        "colab": {
          "base_uri": "https://localhost:8080/"
        },
        "id": "w9YKZH9rCQf6",
        "outputId": "1147419b-def2-4e95-cb9c-8cca3977d337"
      },
      "execution_count": null,
      "outputs": [
        {
          "output_type": "stream",
          "name": "stdout",
          "text": [
            "apple\n",
            "Mango\n",
            "qiwi\n",
            "Lichi\n",
            "watermelon\n"
          ]
        }
      ]
    },
    {
      "cell_type": "code",
      "source": [
        "txt = [\"apple\", \"Mango\",\"qiwi\",\"Lichi\", \"watermelon\"] #7\n",
        "new_list =[x for x in txt if \"a\" in x]\n",
        "print(new_list)"
      ],
      "metadata": {
        "colab": {
          "base_uri": "https://localhost:8080/"
        },
        "id": "ssVj1kU1FPSJ",
        "outputId": "36ea8b06-7864-4e11-844d-33870ca21b90"
      },
      "execution_count": null,
      "outputs": [
        {
          "output_type": "stream",
          "name": "stdout",
          "text": [
            "['apple', 'Mango', 'watermelon']\n"
          ]
        }
      ]
    },
    {
      "cell_type": "code",
      "source": [
        "txt = [\"apple\", \"Mango\",\"qiwi\",\"Lichi\", \"watermelon\"] #7\n",
        "new_list =[x for x in txt[:3]]\n",
        "print(new_list)"
      ],
      "metadata": {
        "colab": {
          "base_uri": "https://localhost:8080/"
        },
        "id": "SArfJXxXF8HQ",
        "outputId": "01aa67a4-9364-4908-ec91-323d72474b69"
      },
      "execution_count": null,
      "outputs": [
        {
          "output_type": "stream",
          "name": "stdout",
          "text": [
            "['apple', 'Mango', 'qiwi']\n"
          ]
        }
      ]
    }
  ]
}